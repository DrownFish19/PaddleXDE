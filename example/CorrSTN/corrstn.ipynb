{
 "cells": [
  {
   "cell_type": "code",
   "execution_count": null,
   "metadata": {},
   "outputs": [],
   "source": [
    "import numpy as np\n",
    "import paddle\n",
    "import paddle.nn as nn\n",
    "from args import args\n",
    "from utils import norm_adj_matrix\n",
    "\n",
    "corr = np.load(\"data/HZME_OUTFLOW/SCORR_HZME_OUTFLOW_0.6_C16.npy\")[0]\n",
    "adj_matrix = paddle.to_tensor(norm_adj_matrix(corr), paddle.get_default_dtype())"
   ]
  },
  {
   "cell_type": "code",
   "execution_count": 2,
   "metadata": {},
   "outputs": [],
   "source": [
    "from dataset import TrafficFlowDataset\n",
    "from paddle.io import DataLoader\n",
    "\n",
    "train_dataset = TrafficFlowDataset(args, \"train\")\n",
    "train_dataloader = DataLoader(\n",
    "    train_dataset, batch_size=args.batch_size, shuffle=False\n",
    ")"
   ]
  },
  {
   "cell_type": "code",
   "execution_count": 3,
   "metadata": {},
   "outputs": [],
   "source": [
    "his, tgt = next(iter(train_dataloader))"
   ]
  },
  {
   "cell_type": "code",
   "execution_count": 4,
   "metadata": {},
   "outputs": [],
   "source": [
    "his_index = paddle.randint(\n",
    "    shape=[args.batch_size * args.num_nodes, 36], high=his.shape[-2], low=0\n",
    ")\n",
    "axis_bs = paddle.arange(args.batch_size * args.num_nodes)[:, None, None]\n",
    "axis_index = his_index[:, :, None]\n",
    "axis_dim = paddle.arange(1)[None, None, :]\n",
    "his = his.reshape([-1] + his.shape[-2:])\n",
    "his_input = his[axis_bs, axis_index, axis_dim]"
   ]
  },
  {
   "cell_type": "code",
   "execution_count": 5,
   "metadata": {},
   "outputs": [
    {
     "name": "stdout",
     "output_type": "stream",
     "text": [
      "Attention Type: Vanilla\n",
      "Attention Type: Vanilla\n",
      "Attention Type: Vanilla\n"
     ]
    },
    {
     "name": "stderr",
     "output_type": "stream",
     "text": [
      "Traceback (most recent call last):\n",
      "  File \"_pydevd_bundle/pydevd_cython.pyx\", line 577, in _pydevd_bundle.pydevd_cython.PyDBFrame._handle_exception\n",
      "  File \"_pydevd_bundle/pydevd_cython.pyx\", line 312, in _pydevd_bundle.pydevd_cython.PyDBFrame.do_wait_suspend\n",
      "  File \"/Users/drownfish19/anaconda3/envs/paddle-2.5.1/lib/python3.10/site-packages/debugpy/_vendored/pydevd/pydevd.py\", line 2070, in do_wait_suspend\n",
      "    keep_suspended = self._do_wait_suspend(thread, frame, event, arg, suspend_type, from_this_thread, frames_tracker)\n",
      "  File \"/Users/drownfish19/anaconda3/envs/paddle-2.5.1/lib/python3.10/site-packages/debugpy/_vendored/pydevd/pydevd.py\", line 2106, in _do_wait_suspend\n",
      "    time.sleep(0.01)\n",
      "KeyboardInterrupt\n"
     ]
    },
    {
     "ename": "AttributeError",
     "evalue": "'Tensor' object has no attribute 'permute'",
     "output_type": "error",
     "traceback": [
      "\u001b[0;31m---------------------------------------------------------------------------\u001b[0m",
      "\u001b[0;31mAttributeError\u001b[0m                            Traceback (most recent call last)",
      "Cell \u001b[0;32mIn[5], line 7\u001b[0m\n\u001b[1;32m      3\u001b[0m nn\u001b[39m.\u001b[39minitializer\u001b[39m.\u001b[39mset_global_initializer(\n\u001b[1;32m      4\u001b[0m     nn\u001b[39m.\u001b[39minitializer\u001b[39m.\u001b[39mXavierUniform(), nn\u001b[39m.\u001b[39minitializer\u001b[39m.\u001b[39mXavierUniform()\n\u001b[1;32m      5\u001b[0m )\n\u001b[1;32m      6\u001b[0m model \u001b[39m=\u001b[39m CorrSTN(args, adj_matrix)\n\u001b[0;32m----> 7\u001b[0m model(his_input, his_index, tgt)\n",
      "File \u001b[0;32m~/anaconda3/envs/paddle-2.5.1/lib/python3.10/site-packages/paddle/nn/layer/layers.py:1254\u001b[0m, in \u001b[0;36mLayer.__call__\u001b[0;34m(self, *inputs, **kwargs)\u001b[0m\n\u001b[1;32m   1245\u001b[0m \u001b[39mif\u001b[39;00m (\n\u001b[1;32m   1246\u001b[0m     (\u001b[39mnot\u001b[39;00m in_declarative_mode())\n\u001b[1;32m   1247\u001b[0m     \u001b[39mand\u001b[39;00m (\u001b[39mnot\u001b[39;00m \u001b[39mself\u001b[39m\u001b[39m.\u001b[39m_forward_pre_hooks)\n\u001b[0;32m   (...)\u001b[0m\n\u001b[1;32m   1251\u001b[0m     \u001b[39mand\u001b[39;00m (\u001b[39mnot\u001b[39;00m in_profiler_mode())\n\u001b[1;32m   1252\u001b[0m ):\n\u001b[1;32m   1253\u001b[0m     \u001b[39mself\u001b[39m\u001b[39m.\u001b[39m_build_once(\u001b[39m*\u001b[39minputs, \u001b[39m*\u001b[39m\u001b[39m*\u001b[39mkwargs)\n\u001b[0;32m-> 1254\u001b[0m     \u001b[39mreturn\u001b[39;00m \u001b[39mself\u001b[39;49m\u001b[39m.\u001b[39;49mforward(\u001b[39m*\u001b[39;49minputs, \u001b[39m*\u001b[39;49m\u001b[39m*\u001b[39;49mkwargs)\n\u001b[1;32m   1255\u001b[0m \u001b[39melse\u001b[39;00m:\n\u001b[1;32m   1256\u001b[0m     \u001b[39mreturn\u001b[39;00m \u001b[39mself\u001b[39m\u001b[39m.\u001b[39m_dygraph_call_func(\u001b[39m*\u001b[39minputs, \u001b[39m*\u001b[39m\u001b[39m*\u001b[39mkwargs)\n",
      "File \u001b[0;32m~/Documents/GitHub/ODE/PaddleXDE/example/CorrSTN/corrstn.py:102\u001b[0m, in \u001b[0;36mCorrSTN.forward\u001b[0;34m(self, src, src_idx, tgt)\u001b[0m\n\u001b[1;32m     98\u001b[0m src \u001b[39m=\u001b[39m src\u001b[39m.\u001b[39mreshape([\u001b[39m-\u001b[39m\u001b[39m1\u001b[39m, \u001b[39mself\u001b[39m\u001b[39m.\u001b[39mtraining_args\u001b[39m.\u001b[39mnum_nodes] \u001b[39m+\u001b[39m src\u001b[39m.\u001b[39mshape[\u001b[39m-\u001b[39m\u001b[39m2\u001b[39m:])\n\u001b[1;32m     99\u001b[0m src_idx \u001b[39m=\u001b[39m src_idx\u001b[39m.\u001b[39mreshape(\n\u001b[1;32m    100\u001b[0m     [\u001b[39m-\u001b[39m\u001b[39m1\u001b[39m, \u001b[39mself\u001b[39m\u001b[39m.\u001b[39mtraining_args\u001b[39m.\u001b[39mnum_nodes] \u001b[39m+\u001b[39m src_idx\u001b[39m.\u001b[39mshape[\u001b[39m-\u001b[39m\u001b[39m1\u001b[39m:]\n\u001b[1;32m    101\u001b[0m )\n\u001b[0;32m--> 102\u001b[0m encoder_output \u001b[39m=\u001b[39m \u001b[39mself\u001b[39;49m\u001b[39m.\u001b[39;49mencode(src, src_idx)\n\u001b[1;32m    103\u001b[0m output \u001b[39m=\u001b[39m \u001b[39mself\u001b[39m\u001b[39m.\u001b[39mdecode(tgt, encoder_output)\n\u001b[1;32m    104\u001b[0m \u001b[39mreturn\u001b[39;00m output\n",
      "File \u001b[0;32m~/Documents/GitHub/ODE/PaddleXDE/example/CorrSTN/corrstn.py:87\u001b[0m, in \u001b[0;36mCorrSTN.encode\u001b[0;34m(self, src, lookup_index)\u001b[0m\n\u001b[1;32m     85\u001b[0m \u001b[39m# src_tp_embedding = self.encode_temporal_position(src_dense, lookup_index)\u001b[39;00m\n\u001b[1;32m     86\u001b[0m src_sp_embedding \u001b[39m=\u001b[39m \u001b[39mself\u001b[39m\u001b[39m.\u001b[39mencode_spatial_position(src_dense)\n\u001b[0;32m---> 87\u001b[0m encoder_output \u001b[39m=\u001b[39m \u001b[39mself\u001b[39;49m\u001b[39m.\u001b[39;49mencoder(src_sp_embedding)\n\u001b[1;32m     88\u001b[0m \u001b[39mreturn\u001b[39;00m encoder_output\n",
      "File \u001b[0;32m~/anaconda3/envs/paddle-2.5.1/lib/python3.10/site-packages/paddle/nn/layer/layers.py:1254\u001b[0m, in \u001b[0;36mLayer.__call__\u001b[0;34m(self, *inputs, **kwargs)\u001b[0m\n\u001b[1;32m   1245\u001b[0m \u001b[39mif\u001b[39;00m (\n\u001b[1;32m   1246\u001b[0m     (\u001b[39mnot\u001b[39;00m in_declarative_mode())\n\u001b[1;32m   1247\u001b[0m     \u001b[39mand\u001b[39;00m (\u001b[39mnot\u001b[39;00m \u001b[39mself\u001b[39m\u001b[39m.\u001b[39m_forward_pre_hooks)\n\u001b[0;32m   (...)\u001b[0m\n\u001b[1;32m   1251\u001b[0m     \u001b[39mand\u001b[39;00m (\u001b[39mnot\u001b[39;00m in_profiler_mode())\n\u001b[1;32m   1252\u001b[0m ):\n\u001b[1;32m   1253\u001b[0m     \u001b[39mself\u001b[39m\u001b[39m.\u001b[39m_build_once(\u001b[39m*\u001b[39minputs, \u001b[39m*\u001b[39m\u001b[39m*\u001b[39mkwargs)\n\u001b[0;32m-> 1254\u001b[0m     \u001b[39mreturn\u001b[39;00m \u001b[39mself\u001b[39;49m\u001b[39m.\u001b[39;49mforward(\u001b[39m*\u001b[39;49minputs, \u001b[39m*\u001b[39;49m\u001b[39m*\u001b[39;49mkwargs)\n\u001b[1;32m   1255\u001b[0m \u001b[39melse\u001b[39;00m:\n\u001b[1;32m   1256\u001b[0m     \u001b[39mreturn\u001b[39;00m \u001b[39mself\u001b[39m\u001b[39m.\u001b[39m_dygraph_call_func(\u001b[39m*\u001b[39minputs, \u001b[39m*\u001b[39m\u001b[39m*\u001b[39mkwargs)\n",
      "File \u001b[0;32m~/Documents/GitHub/ODE/PaddleXDE/example/CorrSTN/endecoder.py:87\u001b[0m, in \u001b[0;36mEncoder.forward\u001b[0;34m(self, x)\u001b[0m\n\u001b[1;32m     82\u001b[0m \u001b[39m\u001b[39m\u001b[39m\"\"\"\u001b[39;00m\n\u001b[1;32m     83\u001b[0m \u001b[39m:param x: src: (batch_size, N, T_in, F_in)\u001b[39;00m\n\u001b[1;32m     84\u001b[0m \u001b[39m:return: (batch_size, N, T_in, F_in)\u001b[39;00m\n\u001b[1;32m     85\u001b[0m \u001b[39m\"\"\"\u001b[39;00m\n\u001b[1;32m     86\u001b[0m \u001b[39mfor\u001b[39;00m layer \u001b[39min\u001b[39;00m \u001b[39mself\u001b[39m\u001b[39m.\u001b[39mlayers:\n\u001b[0;32m---> 87\u001b[0m     x \u001b[39m=\u001b[39m layer(x)\n\u001b[1;32m     88\u001b[0m \u001b[39mreturn\u001b[39;00m \u001b[39mself\u001b[39m\u001b[39m.\u001b[39mnorm(x)\n",
      "File \u001b[0;32m~/anaconda3/envs/paddle-2.5.1/lib/python3.10/site-packages/paddle/nn/layer/layers.py:1254\u001b[0m, in \u001b[0;36mLayer.__call__\u001b[0;34m(self, *inputs, **kwargs)\u001b[0m\n\u001b[1;32m   1245\u001b[0m \u001b[39mif\u001b[39;00m (\n\u001b[1;32m   1246\u001b[0m     (\u001b[39mnot\u001b[39;00m in_declarative_mode())\n\u001b[1;32m   1247\u001b[0m     \u001b[39mand\u001b[39;00m (\u001b[39mnot\u001b[39;00m \u001b[39mself\u001b[39m\u001b[39m.\u001b[39m_forward_pre_hooks)\n\u001b[0;32m   (...)\u001b[0m\n\u001b[1;32m   1251\u001b[0m     \u001b[39mand\u001b[39;00m (\u001b[39mnot\u001b[39;00m in_profiler_mode())\n\u001b[1;32m   1252\u001b[0m ):\n\u001b[1;32m   1253\u001b[0m     \u001b[39mself\u001b[39m\u001b[39m.\u001b[39m_build_once(\u001b[39m*\u001b[39minputs, \u001b[39m*\u001b[39m\u001b[39m*\u001b[39mkwargs)\n\u001b[0;32m-> 1254\u001b[0m     \u001b[39mreturn\u001b[39;00m \u001b[39mself\u001b[39;49m\u001b[39m.\u001b[39;49mforward(\u001b[39m*\u001b[39;49minputs, \u001b[39m*\u001b[39;49m\u001b[39m*\u001b[39;49mkwargs)\n\u001b[1;32m   1255\u001b[0m \u001b[39melse\u001b[39;00m:\n\u001b[1;32m   1256\u001b[0m     \u001b[39mreturn\u001b[39;00m \u001b[39mself\u001b[39m\u001b[39m.\u001b[39m_dygraph_call_func(\u001b[39m*\u001b[39minputs, \u001b[39m*\u001b[39m\u001b[39m*\u001b[39mkwargs)\n",
      "File \u001b[0;32m~/Documents/GitHub/ODE/PaddleXDE/example/CorrSTN/endecoder.py:64\u001b[0m, in \u001b[0;36mEncoderLayer.forward\u001b[0;34m(self, x)\u001b[0m\n\u001b[1;32m     59\u001b[0m \u001b[39mif\u001b[39;00m \u001b[39mself\u001b[39m\u001b[39m.\u001b[39mresidual_connection \u001b[39mor\u001b[39;00m \u001b[39mself\u001b[39m\u001b[39m.\u001b[39muse_LayerNorm:\n\u001b[1;32m     60\u001b[0m     x \u001b[39m=\u001b[39m \u001b[39mself\u001b[39m\u001b[39m.\u001b[39msublayer[\u001b[39m0\u001b[39m](\n\u001b[1;32m     61\u001b[0m         x,\n\u001b[1;32m     62\u001b[0m         \u001b[39mlambda\u001b[39;00m x: \u001b[39mself\u001b[39m\u001b[39m.\u001b[39mself_attn(x, x, x),\n\u001b[1;32m     63\u001b[0m     )  \u001b[39m# [B,N,T,D]\u001b[39;00m\n\u001b[0;32m---> 64\u001b[0m     \u001b[39mreturn\u001b[39;00m \u001b[39mself\u001b[39;49m\u001b[39m.\u001b[39;49msublayer[\u001b[39m1\u001b[39;49m](x, \u001b[39mself\u001b[39;49m\u001b[39m.\u001b[39;49mfeed_forward_gcn)  \u001b[39m# [B,N,T,D]\u001b[39;00m\n\u001b[1;32m     65\u001b[0m \u001b[39melse\u001b[39;00m:\n\u001b[1;32m     67\u001b[0m     x \u001b[39m=\u001b[39m \u001b[39mself\u001b[39m\u001b[39m.\u001b[39mself_attn(x, x, x)  \u001b[39m# [B,N,T,D]\u001b[39;00m\n",
      "File \u001b[0;32m~/anaconda3/envs/paddle-2.5.1/lib/python3.10/site-packages/paddle/nn/layer/layers.py:1254\u001b[0m, in \u001b[0;36mLayer.__call__\u001b[0;34m(self, *inputs, **kwargs)\u001b[0m\n\u001b[1;32m   1245\u001b[0m \u001b[39mif\u001b[39;00m (\n\u001b[1;32m   1246\u001b[0m     (\u001b[39mnot\u001b[39;00m in_declarative_mode())\n\u001b[1;32m   1247\u001b[0m     \u001b[39mand\u001b[39;00m (\u001b[39mnot\u001b[39;00m \u001b[39mself\u001b[39m\u001b[39m.\u001b[39m_forward_pre_hooks)\n\u001b[0;32m   (...)\u001b[0m\n\u001b[1;32m   1251\u001b[0m     \u001b[39mand\u001b[39;00m (\u001b[39mnot\u001b[39;00m in_profiler_mode())\n\u001b[1;32m   1252\u001b[0m ):\n\u001b[1;32m   1253\u001b[0m     \u001b[39mself\u001b[39m\u001b[39m.\u001b[39m_build_once(\u001b[39m*\u001b[39minputs, \u001b[39m*\u001b[39m\u001b[39m*\u001b[39mkwargs)\n\u001b[0;32m-> 1254\u001b[0m     \u001b[39mreturn\u001b[39;00m \u001b[39mself\u001b[39;49m\u001b[39m.\u001b[39;49mforward(\u001b[39m*\u001b[39;49minputs, \u001b[39m*\u001b[39;49m\u001b[39m*\u001b[39;49mkwargs)\n\u001b[1;32m   1255\u001b[0m \u001b[39melse\u001b[39;00m:\n\u001b[1;32m   1256\u001b[0m     \u001b[39mreturn\u001b[39;00m \u001b[39mself\u001b[39m\u001b[39m.\u001b[39m_dygraph_call_func(\u001b[39m*\u001b[39minputs, \u001b[39m*\u001b[39m\u001b[39m*\u001b[39mkwargs)\n",
      "File \u001b[0;32m~/Documents/GitHub/ODE/PaddleXDE/example/CorrSTN/endecoder.py:25\u001b[0m, in \u001b[0;36mSublayerConnection.forward\u001b[0;34m(self, x, sublayer)\u001b[0m\n\u001b[1;32m     19\u001b[0m \u001b[39m\u001b[39m\u001b[39m\"\"\"\u001b[39;00m\n\u001b[1;32m     20\u001b[0m \u001b[39m:param x: (batch, N, T, d_model)\u001b[39;00m\n\u001b[1;32m     21\u001b[0m \u001b[39m:param sublayer: nn.Layer\u001b[39;00m\n\u001b[1;32m     22\u001b[0m \u001b[39m:return: (batch, N, T, d_model)\u001b[39;00m\n\u001b[1;32m     23\u001b[0m \u001b[39m\"\"\"\u001b[39;00m\n\u001b[1;32m     24\u001b[0m \u001b[39mif\u001b[39;00m \u001b[39mself\u001b[39m\u001b[39m.\u001b[39mresidual_connection \u001b[39mand\u001b[39;00m \u001b[39mself\u001b[39m\u001b[39m.\u001b[39muse_layer_norm:\n\u001b[0;32m---> 25\u001b[0m     \u001b[39mreturn\u001b[39;00m x \u001b[39m+\u001b[39m \u001b[39mself\u001b[39m\u001b[39m.\u001b[39mdropout(sublayer(\u001b[39mself\u001b[39;49m\u001b[39m.\u001b[39;49mnorm(x)))\n\u001b[1;32m     26\u001b[0m \u001b[39mif\u001b[39;00m \u001b[39mself\u001b[39m\u001b[39m.\u001b[39mresidual_connection \u001b[39mand\u001b[39;00m (\u001b[39mnot\u001b[39;00m \u001b[39mself\u001b[39m\u001b[39m.\u001b[39muse_layer_norm):\n\u001b[1;32m     27\u001b[0m     \u001b[39mreturn\u001b[39;00m x \u001b[39m+\u001b[39m \u001b[39mself\u001b[39m\u001b[39m.\u001b[39mdropout(sublayer(x))\n",
      "File \u001b[0;32m~/anaconda3/envs/paddle-2.5.1/lib/python3.10/site-packages/paddle/nn/layer/layers.py:1254\u001b[0m, in \u001b[0;36mLayer.__call__\u001b[0;34m(self, *inputs, **kwargs)\u001b[0m\n\u001b[1;32m   1245\u001b[0m \u001b[39mif\u001b[39;00m (\n\u001b[1;32m   1246\u001b[0m     (\u001b[39mnot\u001b[39;00m in_declarative_mode())\n\u001b[1;32m   1247\u001b[0m     \u001b[39mand\u001b[39;00m (\u001b[39mnot\u001b[39;00m \u001b[39mself\u001b[39m\u001b[39m.\u001b[39m_forward_pre_hooks)\n\u001b[0;32m   (...)\u001b[0m\n\u001b[1;32m   1251\u001b[0m     \u001b[39mand\u001b[39;00m (\u001b[39mnot\u001b[39;00m in_profiler_mode())\n\u001b[1;32m   1252\u001b[0m ):\n\u001b[1;32m   1253\u001b[0m     \u001b[39mself\u001b[39m\u001b[39m.\u001b[39m_build_once(\u001b[39m*\u001b[39minputs, \u001b[39m*\u001b[39m\u001b[39m*\u001b[39mkwargs)\n\u001b[0;32m-> 1254\u001b[0m     \u001b[39mreturn\u001b[39;00m \u001b[39mself\u001b[39;49m\u001b[39m.\u001b[39;49mforward(\u001b[39m*\u001b[39;49minputs, \u001b[39m*\u001b[39;49m\u001b[39m*\u001b[39;49mkwargs)\n\u001b[1;32m   1255\u001b[0m \u001b[39melse\u001b[39;00m:\n\u001b[1;32m   1256\u001b[0m     \u001b[39mreturn\u001b[39;00m \u001b[39mself\u001b[39m\u001b[39m.\u001b[39m_dygraph_call_func(\u001b[39m*\u001b[39minputs, \u001b[39m*\u001b[39m\u001b[39m*\u001b[39mkwargs)\n",
      "File \u001b[0;32m~/Documents/GitHub/ODE/PaddleXDE/example/CorrSTN/graphconv.py:66\u001b[0m, in \u001b[0;36mforward\u001b[0;34m(self, x)\u001b[0m\n\u001b[1;32m     64\u001b[0m B, N, T, D \u001b[39m=\u001b[39m x\u001b[39m.\u001b[39mshape\n\u001b[1;32m     65\u001b[0m spatial_attention \u001b[39m=\u001b[39m \u001b[39mself\u001b[39m\u001b[39m.\u001b[39mSAt(x)  \u001b[39m# [B, T, N, N]\u001b[39;00m\n\u001b[0;32m---> 66\u001b[0m \u001b[39mif\u001b[39;00m \u001b[39mself\u001b[39m\u001b[39m.\u001b[39mis_scale:\n\u001b[1;32m     67\u001b[0m     spatial_attention \u001b[39m=\u001b[39m spatial_attention \u001b[39m/\u001b[39m math\u001b[39m.\u001b[39msqrt(\u001b[39mself\u001b[39m\u001b[39m.\u001b[39margs\u001b[39m.\u001b[39md_model)\n\u001b[1;32m     68\u001b[0m x \u001b[39m=\u001b[39m x\u001b[39m.\u001b[39mpermute(\u001b[39m0\u001b[39m, \u001b[39m2\u001b[39m, \u001b[39m1\u001b[39m, \u001b[39m3\u001b[39m)\u001b[39m.\u001b[39mreshape((\u001b[39m-\u001b[39m\u001b[39m1\u001b[39m, N, D))  \u001b[39m# [B*T,N,D]\u001b[39;00m\n",
      "File \u001b[0;32m~/anaconda3/envs/paddle-2.5.1/lib/python3.10/site-packages/paddle/nn/layer/layers.py:1254\u001b[0m, in \u001b[0;36mLayer.__call__\u001b[0;34m(self, *inputs, **kwargs)\u001b[0m\n\u001b[1;32m   1245\u001b[0m \u001b[39mif\u001b[39;00m (\n\u001b[1;32m   1246\u001b[0m     (\u001b[39mnot\u001b[39;00m in_declarative_mode())\n\u001b[1;32m   1247\u001b[0m     \u001b[39mand\u001b[39;00m (\u001b[39mnot\u001b[39;00m \u001b[39mself\u001b[39m\u001b[39m.\u001b[39m_forward_pre_hooks)\n\u001b[0;32m   (...)\u001b[0m\n\u001b[1;32m   1251\u001b[0m     \u001b[39mand\u001b[39;00m (\u001b[39mnot\u001b[39;00m in_profiler_mode())\n\u001b[1;32m   1252\u001b[0m ):\n\u001b[1;32m   1253\u001b[0m     \u001b[39mself\u001b[39m\u001b[39m.\u001b[39m_build_once(\u001b[39m*\u001b[39minputs, \u001b[39m*\u001b[39m\u001b[39m*\u001b[39mkwargs)\n\u001b[0;32m-> 1254\u001b[0m     \u001b[39mreturn\u001b[39;00m \u001b[39mself\u001b[39;49m\u001b[39m.\u001b[39;49mforward(\u001b[39m*\u001b[39;49minputs, \u001b[39m*\u001b[39;49m\u001b[39m*\u001b[39;49mkwargs)\n\u001b[1;32m   1255\u001b[0m \u001b[39melse\u001b[39;00m:\n\u001b[1;32m   1256\u001b[0m     \u001b[39mreturn\u001b[39;00m \u001b[39mself\u001b[39m\u001b[39m.\u001b[39m_dygraph_call_func(\u001b[39m*\u001b[39minputs, \u001b[39m*\u001b[39m\u001b[39m*\u001b[39mkwargs)\n",
      "File \u001b[0;32m~/Documents/GitHub/ODE/PaddleXDE/example/CorrSTN/graphconv.py:42\u001b[0m, in \u001b[0;36mSpatialAttentionLayer.forward\u001b[0;34m(self, x)\u001b[0m\n\u001b[1;32m     37\u001b[0m \u001b[39m\u001b[39m\u001b[39m\"\"\"\u001b[39;00m\n\u001b[1;32m     38\u001b[0m \u001b[39m:param x: (B, N, T, D)\u001b[39;00m\n\u001b[1;32m     39\u001b[0m \u001b[39m:return: (B, T, N, N)\u001b[39;00m\n\u001b[1;32m     40\u001b[0m \u001b[39m\"\"\"\u001b[39;00m\n\u001b[1;32m     41\u001b[0m B, N, T, D \u001b[39m=\u001b[39m x\u001b[39m.\u001b[39mshape\n\u001b[0;32m---> 42\u001b[0m x \u001b[39m=\u001b[39m x\u001b[39m.\u001b[39mtranposr([\u001b[39m0\u001b[39m, \u001b[39m2\u001b[39m, \u001b[39m1\u001b[39m, \u001b[39m3\u001b[39m])\u001b[39m.\u001b[39mreshape((\u001b[39m-\u001b[39m\u001b[39m1\u001b[39m, N, D))  \u001b[39m# [B*T,N,F_in]\u001b[39;00m\n\u001b[1;32m     43\u001b[0m \u001b[39m# [B*T,N,F_in][B*T,F_in,N]=[B*T,N,N]\u001b[39;00m\n\u001b[1;32m     44\u001b[0m score \u001b[39m=\u001b[39m paddle\u001b[39m.\u001b[39mmatmul(x, x, transpose_y\u001b[39m=\u001b[39m\u001b[39mTrue\u001b[39;00m) \u001b[39m/\u001b[39m math\u001b[39m.\u001b[39msqrt(D)\n",
      "\u001b[0;31mAttributeError\u001b[0m: 'Tensor' object has no attribute 'permute'"
     ]
    }
   ],
   "source": [
    "from corrstn import CorrSTN\n",
    "\n",
    "nn.initializer.set_global_initializer(\n",
    "    nn.initializer.XavierUniform(), nn.initializer.XavierUniform()\n",
    ")\n",
    "model = CorrSTN(args, adj_matrix)\n",
    "model(his_input, his_index, tgt)"
   ]
  }
 ],
 "metadata": {
  "kernelspec": {
   "display_name": "paddle-2.5.1",
   "language": "python",
   "name": "python3"
  },
  "language_info": {
   "codemirror_mode": {
    "name": "ipython",
    "version": 3
   },
   "file_extension": ".py",
   "mimetype": "text/x-python",
   "name": "python",
   "nbconvert_exporter": "python",
   "pygments_lexer": "ipython3",
   "version": "3.10.12"
  },
  "orig_nbformat": 4,
  "vscode": {
   "interpreter": {
    "hash": "d5e07ec9d8a63f92ad92c0319a0bf17841e333a8063fcdf0df6e5ed0358e95fb"
   }
  }
 },
 "nbformat": 4,
 "nbformat_minor": 2
}
